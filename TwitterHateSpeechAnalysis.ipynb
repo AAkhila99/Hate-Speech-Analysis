{
 "cells": [
  {
   "cell_type": "code",
   "execution_count": null,
   "id": "c335853d",
   "metadata": {},
   "outputs": [],
   "source": [
    "import pandas as panda\n",
    "from nltk.tokenize import word_tokenize\n",
    "from nltk.corpus import stopwords\n",
    "from nltk.stem.porter import *\n",
    "import string\n",
    "import nltk\n",
    "nltk.download('stopwords')\n",
    "from sklearn.feature_extraction.text import CountVectorizer\n",
    "from sklearn.feature_extraction.text import TfidfVectorizer\n",
    "from sklearn.metrics import confusion_matrix\n",
    "import seaborn\n",
    "from textstat.textstat import *\n",
    "from sklearn.linear_model import LogisticRegression\n",
    "from sklearn.model_selection import train_test_split\n",
    "from sklearn.metrics import f1_score\n",
    "from sklearn.feature_selection import SelectFromModel\n",
    "from sklearn.metrics import classification_report\n",
    "from sklearn.metrics import accuracy_score\n",
    "from sklearn.svm import LinearSVC\n",
    "import numpy as np\n",
    "from numpy import ndarray\n",
    "import matplotlib.pyplot as plt\n",
    "from vaderSentiment.vaderSentiment import SentimentIntensityAnalyzer as VS\n",
    "import warnings\n",
    "warnings.simplefilter(action='ignore', category=FutureWarning)\n",
    "%matplotlib inline"
   ]
  },
  {
   "cell_type": "markdown",
   "id": "1bd89182",
   "metadata": {},
   "source": [
    "# Loading the data"
   ]
  },
  {
   "cell_type": "code",
   "execution_count": null,
   "id": "2484a917",
   "metadata": {},
   "outputs": [],
   "source": [
    "# Loading the data\n",
    "dataset = panda.read_csv('TwitterDataset.csv')\n",
    "# dataset.tail(10)"
   ]
  },
  {
   "cell_type": "code",
   "execution_count": null,
   "id": "93cdf602",
   "metadata": {},
   "outputs": [],
   "source": [
    "dataset['class'].hist()"
   ]
  },
  {
   "cell_type": "code",
   "execution_count": null,
   "id": "4529eda8",
   "metadata": {},
   "outputs": [],
   "source": [
    "# The histogram shows that the majority of the tweets are offensive - 1, followed by neutral - 2, and hatred - 0."
   ]
  },
  {
   "cell_type": "code",
   "execution_count": null,
   "id": "aaa23b31",
   "metadata": {},
   "outputs": [],
   "source": [
    "tweet=dataset['tweet']\n",
    "# print(tweet)"
   ]
  },
  {
   "cell_type": "markdown",
   "id": "dbcfdb44",
   "metadata": {},
   "source": [
    "# Preprocessing the data"
   ]
  },
  {
   "cell_type": "code",
   "execution_count": null,
   "id": "3eb57fcf",
   "metadata": {},
   "outputs": [],
   "source": [
    "#Collecting the stopwords to remove them\n",
    "stopWords = stopwords.words('english')\n",
    "# print(stopWords)"
   ]
  },
  {
   "cell_type": "code",
   "execution_count": null,
   "id": "de90f26b",
   "metadata": {},
   "outputs": [],
   "source": [
    "## 1. Removal of punctuation and capitalization\n",
    "## 2. Tokenizing\n",
    "## 3. Removal of stopwords\n",
    "## 4. Stemming\n",
    "\n",
    "#extending the stopwords to include other words used in twitter such as retweet(rt) etc.\n",
    "other_exclusions = ['#ff', 'ff','rt']\n",
    "stopWords.extend(other_exclusions)\n",
    "stemmer = PorterStemmer()\n",
    "\n",
    "def preprocess(tweet):  \n",
    "    \n",
    "    # removal of extra spaces\n",
    "    regex_pat = re.compile(r'\\s+')\n",
    "    tweet_space = tweet.str.replace(regex_pat, ' ')\n",
    "\n",
    "    # removal of @name[mention]\n",
    "    regex_pat = re.compile(r'@[\\w\\-]+')\n",
    "    tweet_name = tweet_space.str.replace(regex_pat, '')\n",
    "\n",
    "    # removal of links[https://abc.com]\n",
    "    giant_url_regex =  re.compile('http[s]?://(?:[a-zA-Z]|[0-9]|[$-_@.&+]|'\n",
    "            '[!*\\(\\),]|(?:%[0-9a-fA-F][0-9a-fA-F]))+')\n",
    "    tweets = tweet_name.str.replace(giant_url_regex, '')\n",
    "    \n",
    "    # removal of punctuations and numbers\n",
    "    punc_remove = tweets.str.replace(\"[^a-zA-Z]\", \" \")\n",
    "    # removal of capitalization\n",
    "    tweet_lower = punc_remove.str.lower()\n",
    "    \n",
    "    # tokenizing\n",
    "    tokenized_tweet = tweet_lower.apply(lambda x: x.split())\n",
    "    \n",
    "    # removal of stopwords\n",
    "    tokenized_tweet=  tokenized_tweet.apply(lambda x: [item for item in x if item not in stopWords])\n",
    "    \n",
    "    # stemming of the tweets\n",
    "    tokenized_tweet = tokenized_tweet.apply(lambda x: [stemmer.stem(i) for i in x]) \n",
    "    \n",
    "    for i in range(len(tokenized_tweet)):\n",
    "        tokenized_tweet[i] = ' '.join(tokenized_tweet[i])\n",
    "        tweets_p= tokenized_tweet\n",
    "    \n",
    "    return tweets_p\n",
    "\n",
    "# All the proccessed tweets are stored into another variable\n",
    "processed_tweets = preprocess(tweet)   \n",
    "\n",
    "dataset['processed_tweets'] = processed_tweets\n",
    "# dataset['processed_tweets']"
   ]
  },
  {
   "cell_type": "markdown",
   "id": "4de711ce",
   "metadata": {},
   "source": [
    "# Visualizations"
   ]
  },
  {
   "cell_type": "code",
   "execution_count": null,
   "id": "4b128e9c",
   "metadata": {},
   "outputs": [],
   "source": [
    "# visualizing which of the word is most commonly used in the twitter dataset\n",
    "\n",
    "import matplotlib.pyplot as plt\n",
    "from wordcloud import WordCloud\n",
    "\n",
    "all_words = ' '.join([text for text in dataset['processed_tweets']])\n",
    "wordcloud = WordCloud(width=800, height=500, random_state=21, max_font_size=110).generate(all_words)\n",
    "\n",
    "plt.figure(figsize=(10, 7))\n",
    "plt.imshow(wordcloud, interpolation=\"bilinear\")\n",
    "plt.axis('off')\n",
    "plt.show()"
   ]
  },
  {
   "cell_type": "code",
   "execution_count": null,
   "id": "0fea8633",
   "metadata": {},
   "outputs": [],
   "source": [
    "# visualizing which of the word is most commonly used for hate speech\n",
    "hatred_words = ' '.join([text for text in dataset['processed_tweets'][dataset['class'] == 0]])\n",
    "wordcloud = WordCloud(width=800, height=500,\n",
    "random_state=21, max_font_size=110).generate(hatred_words)\n",
    "plt.figure(figsize=(10, 7))\n",
    "plt.imshow(wordcloud, interpolation=\"bilinear\")\n",
    "plt.axis('off')\n",
    "plt.show()"
   ]
  },
  {
   "cell_type": "code",
   "execution_count": null,
   "id": "f925d9cc",
   "metadata": {},
   "outputs": [],
   "source": [
    "# visualizing which of the word is most commonly used for offensive speech\n",
    "offensive_words = ' '.join([text for text in dataset['processed_tweets'][dataset['class'] == 1]])\n",
    "wordcloud = WordCloud(width=800, height=500,\n",
    "random_state=21, max_font_size=110).generate(offensive_words)\n",
    "plt.figure(figsize=(10, 7))\n",
    "plt.imshow(wordcloud, interpolation=\"bilinear\")\n",
    "plt.axis('off')\n",
    "plt.show()"
   ]
  },
  {
   "cell_type": "code",
   "execution_count": null,
   "id": "666ceb82",
   "metadata": {},
   "outputs": [],
   "source": [
    "# visualizing which of the word is most commonly used for neutral speech\n",
    "neutral_words = ' '.join([text for text in dataset['processed_tweets'][dataset['class'] == 2]])\n",
    "wordcloud = WordCloud(width=800, height=500,\n",
    "random_state=21, max_font_size=110).generate(neutral_words)\n",
    "plt.figure(figsize=(10, 7))\n",
    "plt.imshow(wordcloud, interpolation=\"bilinear\")\n",
    "plt.axis('off')\n",
    "plt.show()"
   ]
  },
  {
   "cell_type": "markdown",
   "id": "47fe7333",
   "metadata": {},
   "source": [
    "# Feature Generation"
   ]
  },
  {
   "cell_type": "code",
   "execution_count": null,
   "id": "6407d296",
   "metadata": {},
   "outputs": [],
   "source": [
    "# Extracting unigram, bigram and trigram features\n",
    "ngram_vectorizer = CountVectorizer(ngram_range=(1,3),max_df=0.75, min_df=1, max_features=20000)\n",
    "\n",
    "# bigram feature matrix\n",
    "ngram = ngram_vectorizer.fit_transform(processed_tweets).toarray()\n",
    "features=(ngram_vectorizer.get_feature_names())\n",
    "# print(features)"
   ]
  },
  {
   "cell_type": "code",
   "execution_count": null,
   "id": "c69dac7c",
   "metadata": {},
   "outputs": [],
   "source": [
    "#TF-IDF Features\n",
    "tfidf_vectorizer = TfidfVectorizer(ngram_range=(1,3),max_df=0.75, min_df=5, max_features=20000)\n",
    "\n",
    "# TF-IDF feature matrix\n",
    "tfidf = tfidf_vectorizer.fit_transform(dataset['processed_tweets'] ).toarray()"
   ]
  },
  {
   "cell_type": "markdown",
   "id": "61203bb7",
   "metadata": {},
   "source": [
    "# Building models using Logistic Regression"
   ]
  },
  {
   "cell_type": "code",
   "execution_count": null,
   "id": "4c7bb43a",
   "metadata": {},
   "outputs": [],
   "source": [
    "# Using the ngram features extracted\n",
    "\n",
    "x = panda.DataFrame(ngram)\n",
    "y = dataset['class'].astype(int)\n",
    "x_train, x_test, y_train, y_test = train_test_split(x, y, random_state=42, test_size=0.25)\n",
    "\n",
    "\n",
    "model = LogisticRegression(class_weight='balanced',penalty=\"l2\",solver=\"liblinear\", C=0.01).fit(x_train,y_train)\n",
    "y_preds = model.predict(x_test)\n",
    "report = classification_report( y_test, y_preds )\n",
    "print(report)\n",
    "\n",
    "print(\"Accuracy Score:\" , accuracy_score(y_test,y_preds))"
   ]
  },
  {
   "cell_type": "code",
   "execution_count": null,
   "id": "89e8ceb0",
   "metadata": {},
   "outputs": [],
   "source": [
    "# Using the TF-IDF features extracted\n",
    "\n",
    "X = tfidf\n",
    "y = dataset['class'].astype(int)\n",
    "X_train_tfidf, X_test_tfidf, y_train, y_test = train_test_split(X, y, random_state=42, test_size=0.25)\n",
    "\n",
    "\n",
    "model = LogisticRegression(solver='lbfgs',max_iter=1000).fit(X_train_tfidf,y_train)\n",
    "y_preds = model.predict(X_test_tfidf)\n",
    "report = classification_report( y_test, y_preds )\n",
    "print(report)\n",
    "\n",
    "print(\"Accuracy Score:\" , accuracy_score(y_test,y_preds))"
   ]
  },
  {
   "cell_type": "code",
   "execution_count": null,
   "id": "90ed1293",
   "metadata": {},
   "outputs": [],
   "source": [
    "## Sentiment Analysis\n",
    "sentiment_analyzer = VS()\n",
    "\n",
    "def count_tags(tweet_c):  \n",
    "    space_pattern = '\\s+'\n",
    "    giant_url_regex = ('http[s]?://(?:[a-zA-Z]|[0-9]|[$-_@.&+]|'\n",
    "        '[!*\\(\\),]|(?:%[0-9a-fA-F][0-9a-fA-F]))+')\n",
    "    mention_regex = '@[\\w\\-]+'\n",
    "    hashtag_regex = '#[\\w\\-]+'\n",
    "    parsed_text = re.sub(space_pattern, ' ', tweet_c)\n",
    "    parsed_text = re.sub(giant_url_regex, 'URLHERE', parsed_text)\n",
    "    parsed_text = re.sub(mention_regex, 'MENTIONHERE', parsed_text)\n",
    "    parsed_text = re.sub(hashtag_regex, 'HASHTAGHERE', parsed_text)\n",
    "    return(parsed_text.count('URLHERE'),parsed_text.count('MENTIONHERE'),parsed_text.count('HASHTAGHERE'))\n",
    "\n",
    "def sentiment_analysis(tweet):   \n",
    "    sentiment = sentiment_analyzer.polarity_scores(tweet)    \n",
    "    twitter_objs = count_tags(tweet)\n",
    "    features = [sentiment['neg'], sentiment['pos'], sentiment['neu'], sentiment['compound'],twitter_objs[0], twitter_objs[1],\n",
    "                twitter_objs[2]]\n",
    "    #features = pandas.DataFrame(features)\n",
    "    return features\n",
    "\n",
    "def sentiment_analysis_array(tweets):\n",
    "    features=[]\n",
    "    for t in tweets:\n",
    "        features.append(sentiment_analysis(t))\n",
    "    return np.array(features)\n",
    "\n",
    "final_features = sentiment_analysis_array(tweet)\n",
    "#final_features\n",
    "\n",
    "new_features = panda.DataFrame({'Neg':final_features[:,0],'Pos':final_features[:,1],'Neu':final_features[:,2],'Compound':final_features[:,3],\n",
    "                            'url_tag':final_features[:,4],'mention_tag':final_features[:,5],'hash_tag':final_features[:,6]})\n",
    "new_features"
   ]
  },
  {
   "cell_type": "code",
   "execution_count": null,
   "id": "bf8af6ad",
   "metadata": {},
   "outputs": [],
   "source": [
    "#tfidf_a = tfidf.toarray()\n",
    "modelling_features = np.concatenate([tfidf,final_features],axis=1)\n",
    "print(modelling_features.shape)\n",
    "\n",
    "# Running the model Using TFIDF with some features from sentiment analysis\n",
    "\n",
    "X = panda.DataFrame(modelling_features)\n",
    "y = dataset['class'].astype(int)\n",
    "X_train_bow, X_test_bow, y_train, y_test = train_test_split(X, y, random_state=42, test_size=0.25)\n",
    "\n",
    "model = LogisticRegression(max_iter=500).fit(X_train_bow,y_train)\n",
    "y_preds = model.predict(X_test_bow)\n",
    "report = classification_report( y_test, y_preds )\n",
    "print(report)\n",
    "\n",
    "print(\"Accuracy Score:\" , accuracy_score(y_test,y_preds))\n"
   ]
  },
  {
   "cell_type": "code",
   "execution_count": 21,
   "id": "d5ba8103",
   "metadata": {},
   "outputs": [
    {
     "data": {
      "image/png": "[encoded data removed]",
      "text/plain": [
       "<Figure size 360x360 with 1 Axes>"
      ]
     },
     "metadata": {
      "needs_background": "light"
     },
     "output_type": "display_data"
    }
   ],
   "source": [
    "#Confusion Matrix for TFIDF with some features from sentiment analysis\n",
    "confusionMatrix = confusion_matrix(y_test,y_preds)\n",
    "matrix_proportions = np.zeros((3,3))\n",
    "for i in range(0,3):\n",
    "    matrix_proportions[i,:] = confusionMatrix[i,:]/float(confusionMatrix[i,:].sum())\n",
    "names=['Hate','Offensive','Neutral']\n",
    "confusion_df = panda.DataFrame(matrix_proportions, index=names,columns=names)\n",
    "plt.figure(figsize=(5,5))\n",
    "seaborn.heatmap(confusion_df,annot=True,annot_kws={\"size\": 12},cmap='YlGnBu',cbar=False, square=True,fmt='.2f')\n",
    "plt.ylabel(r'True Value',fontsize=14)\n",
    "plt.xlabel(r'Predicted Value',fontsize=14)\n",
    "plt.tick_params(labelsize=12)"
   ]
  },
  {
   "cell_type": "code",
   "execution_count": null,
   "id": "d0afff00",
   "metadata": {},
   "outputs": [],
   "source": []
  }
 ],
 "metadata": {
  "kernelspec": {
   "display_name": "Python 3 (ipykernel)",
   "language": "python",
   "name": "python3"
  },
  "language_info": {
   "codemirror_mode": {
    "name": "ipython",
    "version": 3
   },
   "file_extension": ".py",
   "mimetype": "text/x-python",
   "name": "python",
   "nbconvert_exporter": "python",
   "pygments_lexer": "ipython3",
   "version": "3.9.7"
  }
 },
 "nbformat": 4,
 "nbformat_minor": 5
}
